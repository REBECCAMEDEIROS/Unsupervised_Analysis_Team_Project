{
 "cells": [
  {
   "cell_type": "markdown",
   "id": "df629e51",
   "metadata": {
    "deletable": false,
    "editable": false
   },
   "source": [
    "<hr style=\"height:.9px;border:none;color:#333;background-color:#333;\" />\n",
    "<hr style=\"height:.9px;border:none;color:#333;background-color:#333;\" />\n",
    "\n",
    "<br><h2>Users segmentation based on unsupervised machine learning techniques.</h2>\n",
    "<br><h3>Problem:</h3>\n",
    "\n",
    "As data science consultants for the marketing department, we analyzed consumers download behavior based on information about demographics, psychometrics, and behaviors through the mobile survey data. By using unsupervised machine learning techniques, we profiled specific audiences and user segments to determine a strategy for the marketing department. \n",
    "\n",
    "<h3>Key insights:</h3>\n",
    "<ul>\n",
    "    <li>Behavior patterns - Two Extreme User Segments </li>\n",
    "        <ul>\n",
    "            <li>Say No to Old Skool Music: These users tend to favor newer music platforms than older platforms </li>\n",
    "            <li>Stimulated Socializers: These users always need to be connected with the world through their phones </li>\n",
    "        </ul><br>\n",
    "    \n",
    "<li>Psychometric patterns - Two Extreme User Segments </li>\n",
    "        <ul>\n",
    "            <li>Tech Loner: These user use the internet to avoid social gatherings but are also interested in pop culture. they don't like brands or follow trends </li>\n",
    "            <li>Tech Social Control: Individuals who use internet as needed, they are not dependent on it but they're practical and use it for the necessary things </li>\n",
    "        </ul><br>\n",
    "        \n",
    "<li>Demographic patterns </li>\n",
    "        <ul>\n",
    "            <li>Those who are separated Widowed or divorced tend to avoid relationships and would use tech to occupy their time while avoiding social engagements </li>\n",
    "            <li>The Gen Z generation tends to relate to the tech loner segment to avoid social commitments with friends and family and use the internet to connect with their favorite popular cultural interest. </li>\n",
    "            <li>High school graduates and individuals who completed some high school are more inclined to immerse them selves with internet and stay secluded. high school graduates tend to avoid social engagements because there are no achievements to show off or share with others. </li>\n",
    "            <li>Those who are wealthy use technology mostly to control their surroundings and social life. Individuals with more money and resources are practical and have less time, so they tend to use internet to stay connected with their social life. </li>\n",
    "        </ul><br>\n",
    "</ul>\n",
    "\n",
    "<h3>Implementation Strategy: What do we plan what to do?</h3>\n",
    "    <ul>\n",
    "        <li>Focus on people who are separated Widowed or divorced because they'll make great customers applications for self development and emotional expressions.  </li>\n",
    "        <li>The Gen Z generation would be a great fit for application based on trends and socialization. </li>\n",
    "        <li>Focus on Productivity and social applications for for practical high income people. </li>\n",
    "    </ul>\n",
    "   \n",
    "   \n",
    "   \n",
    "<hr style=\"height:.9px;border:none;color:#333;background-color:#333;\" />\n",
    "<hr style=\"height:.9px;border:none;color:#333;background-color:#333;\" />\n"
   ]
  },
  {
   "cell_type": "code",
   "execution_count": 1,
   "id": "fe576a0d",
   "metadata": {
    "deletable": false,
    "editable": false
   },
   "outputs": [],
   "source": [
    "\"\"\"\n",
    "    Introduction:\n",
    "        Goal: To segment users based on unsupervised machine learning \n",
    "        techniques. \n",
    "     \n",
    "    Note:   Data set is in a /__datasets/ folder\n",
    "            Data set is Mobile_App_Survey_Data.xlsx\n",
    "            \n",
    "    \n",
    "    Known bugs: None\n",
    "\"\"\"\n",
    "\n",
    "\n",
    "########################################\n",
    "# importing packages\n",
    "########################################\n",
    "import numpy             as np  # mathematical essentials\n",
    "import pandas            as pd  # data science essentials\n",
    "import matplotlib.pyplot as plt # fundamental data visualization\n",
    "import seaborn           as sns # enhanced visualization\n",
    "import sys                      # system-specific parameters and functions\n",
    "\n",
    "\n",
    "# packages for unsupervised learning\n",
    "from sklearn.decomposition import PCA            # pca\n",
    "from sklearn.datasets      import load_digits    # digits dataset\n",
    "from sklearn.preprocessing import StandardScaler # standard scaler\n",
    "from scipy.cluster.hierarchy import dendrogram, linkage # dendrograms\n",
    "from sklearn.cluster         import KMeans # k-means clustering\n",
    "\n",
    "\n",
    "########################################\n",
    "# loading data and setting display options\n",
    "########################################\n",
    "# loading data\n",
    "mas_df = pd.read_excel('./__datasets/Mobile_App_Survey_Data.xlsx')\n",
    "\n",
    "\n",
    "# setting print options\n",
    "pd.set_option('display.max_rows', 500)\n",
    "pd.set_option('display.max_columns', 500)\n",
    "pd.set_option('display.width', 1000)\n",
    "pd.set_option('display.max_colwidth', 100)\n",
    "np.set_printoptions(threshold=sys.maxsize)\n",
    "\n",
    "\n"
   ]
  },
  {
   "cell_type": "markdown",
   "id": "150723af",
   "metadata": {
    "deletable": false,
    "editable": false
   },
   "source": [
    "<br><br><strong>Methodology</strong>\n",
    "\n",
    "\n",
    "We used mobile survey data to analyze consumer's download behavior based on information about demographics, psychometrics, and behaviors. We are assuming that a tech sector company based in an unknown location targeting consumers in the United State of America market, has hired us to find patterns in the Mobile Application Survey to determine users and segments and then provide interpretation and recommendations for the Marketing Department. Using Mobile Application Survey Data without pre-assigned labels or scores of the metrics that were inquired through the survey, us as data science consultants agreed to use machine learning techniques, specifically Unsupervised Learning to find and identify patterns within the survey data. To note, as we do not know the company, it's application that it is developing, or the application features it has, we can only use the data provided about individuals who are either inclined to download/use mobile applications or not download mobile applications. We as data science consultants must provide information to the company's marketing department. This information is about Users and the Segment that they belong to and we assume that we are finding information for a company in an unknown location, to provide analysis and recommendations on which user segments to target. \n",
    "\n",
    "As demographic questions presented included race like African American, American Indian, and Ethnicity questions Hispanic and Latino, along with Household income using the US Dollar Sign, we are assuming the company is either an United States based tech company or a tech company focusing on data to target US consumers. \n",
    "<br><br>"
   ]
  },
  {
   "cell_type": "code",
   "execution_count": 2,
   "id": "dc266fdf",
   "metadata": {
    "deletable": false,
    "editable": false
   },
   "outputs": [],
   "source": [
    "########################################\n",
    "# pca_plotter\n",
    "########################################\n",
    "# optional color scheme\n",
    "colors_lst = [\"#476A2A\", \"#7851B8\", \"#BD3430\", \"#4A2D4E\", \"#875525\",\n",
    "              \"#A83683\", \"#4E655E\", \"#853541\", \"#3A3120\", \"#535D8E\"]\n",
    "\n",
    "\n",
    "# pca_plotter\n",
    "def pca_plotter(bunch,\n",
    "                colors  = None,\n",
    "                x_label = \"First principal component\",\n",
    "                y_label = \"Second principal component\"):\n",
    "    \"\"\"\n",
    "PARAMETERS\n",
    "----------\n",
    "bunch        : Bunch object to be used in PCA\n",
    "colors       : color coding for target labels, default None\n",
    "x_label      : x-label for PC 0, default \"First principal component\"\n",
    "y_label      : y-label for PC 1, default \"Second principal component\"\n",
    "\"\"\"\n",
    "\n",
    "    # INSTANTIATING a PCA object\n",
    "    pca = PCA(n_components = 2,\n",
    "              random_state = 219)\n",
    "\n",
    "\n",
    "    # FITTING and TRANSFORMING the data\n",
    "    dataset_pca = pca.fit_transform(bunch.data)\n",
    "\n",
    "    \n",
    "    # setting figure options\n",
    "    plt.figure(figsize=(10, 10))\n",
    "    plt.xlim(dataset_pca[:, 0].min(), dataset_pca[:, 0].max())\n",
    "    plt.ylim(dataset_pca[:, 1].min(), dataset_pca[:, 1].max())\n",
    "\n",
    "\n",
    "    # data vizualization\n",
    "    for i in range(len(bunch.data)):\n",
    "\n",
    "        plt.text(dataset_pca[i, 0],\n",
    "                 dataset_pca[i, 1],\n",
    "                 str(bunch.target[i]),\n",
    "                 color = colors[bunch.target[i]],\n",
    "                 fontdict={'weight': 'bold', 'size': 9})\n",
    "\n",
    "    plt.xlabel(xlabel = x_label)\n",
    "    plt.ylabel(ylabel = y_label)\n",
    "    plt.show()\n",
    "\n",
    "    \n",
    "########################################\n",
    "# scree_plot\n",
    "########################################\n",
    "def scree_plot(pca_object, export = False):\n",
    "    # building a scree plot\n",
    "\n",
    "    # setting plot size\n",
    "    fig, ax = plt.subplots(figsize=(10, 8))\n",
    "    features = range(pca_object.n_components_)\n",
    "\n",
    "\n",
    "    # developing a scree plot\n",
    "    plt.plot(features,\n",
    "             pca_object.explained_variance_ratio_,\n",
    "             linewidth = 2,\n",
    "             marker = 'o',\n",
    "             markersize = 10,\n",
    "             markeredgecolor = 'black',\n",
    "             markerfacecolor = 'grey')\n",
    "\n",
    "\n",
    "    # setting more plot options\n",
    "    plt.title('Scree Plot')\n",
    "    plt.xlabel('PCA feature')\n",
    "    plt.ylabel('Explained Variance')\n",
    "    plt.xticks(features)\n",
    "\n",
    "    if export == True:\n",
    "    \n",
    "        # exporting the plot\n",
    "        plt.savefig('./analysis_images/mas_correlation_scree_plot.png')\n",
    "        \n",
    "    # displaying the plot\n",
    "    plt.show()\n",
    "    \n",
    "########################################\n",
    "# unsupervised_scaler\n",
    "########################################\n",
    "def unsupervised_scaler(df):\n",
    "    \"\"\"\n",
    "    Standardizes a dataset (mean = 0, variance = 1). Returns a new DataFrame.\n",
    "    Requires sklearn.preprocessing.StandardScaler()\n",
    "    \n",
    "    PARAMETERS\n",
    "    ----------\n",
    "    df     | DataFrame to be used for scaling\n",
    "    \"\"\"\n",
    "\n",
    "    # INSTANTIATING a StandardScaler() object\n",
    "    scaler = StandardScaler()\n",
    "\n",
    "\n",
    "    # FITTING the scaler with the data\n",
    "    scaler.fit(df)\n",
    "\n",
    "\n",
    "    # TRANSFORMING our data after fit\n",
    "    x_scaled = scaler.transform(df)\n",
    "\n",
    "    \n",
    "    # converting scaled data into a DataFrame\n",
    "    new_df = pd.DataFrame(x_scaled)\n",
    "\n",
    "\n",
    "    # reattaching column names\n",
    "    new_df.columns = df.columns\n",
    "    \n",
    "    return new_df"
   ]
  },
  {
   "cell_type": "markdown",
   "id": "1119c4a5",
   "metadata": {
    "deletable": false,
    "editable": false
   },
   "source": [
    "<br><br>\n",
    "<strong>User Defined Functions:</strong>\n",
    "The above code is to preparing user defined functions that we'll use to Visually inspect the data and model outputs. \n",
    "Preparing data for data visualization to interpret and understand the information and to create charts for the marketing department to further review.\n",
    "\n",
    "<strong>Feature Engineering: </strong>\n",
    "<br>Grouping and extracting features form raw data. \n",
    "We are transforming some raw data to get the best results from the algorithms. \n",
    "We would apply the scaler function to get accurate results from distance based model calculation.\n",
    "\n",
    "We created three data categories\n",
    "<ul>\n",
    "    <li>Psychometric Information</li>\n",
    "    <ul>\n",
    "        <li>Question 24. Please tell us how much you agree or disagree with each of the following statements.</li>\n",
    "        <ul>\n",
    "            <li>Response 1. I try to keep up with technological developments</li>\n",
    "            <li>Response 2. People often ask my advice when they are looking to buy technology or electronic products</li>\n",
    "            <li>Response 3. I enjoy purchasing new gadgets and appliances</li>\n",
    "            <li>Response 4. I think there is too much technology in everyday life</li>\n",
    "            <li>Response 5. I enjoy using technology to give me more control over my life </li>\n",
    "            <li>Response 6. I look for web tools and Apps that help me save time</li>\n",
    "            <li>Response 7. Music is an important part of my life</li>\n",
    "            <li>Response 8. I like learning more about my favorite TV shows when I’m not watching them</li>\n",
    "            <li>Response 9. I think there is too much information out there today from the internet and sites like Facebook </li>\n",
    "            <li>Response 10. I’m always checking on friends and family through Facebook or other networking websites</li>\n",
    "            <li>Response 11. The internet makes it easier to keep in touch with family and friends</li>\n",
    "            <li>Response 12. The internet makes it easy to avoid seeing or having to speak with family and friends</li>\n",
    "        </ul>\n",
    "        <li>Question 25. And how much do you agree or disagree with each of the following?</li>\n",
    "        <ul>\n",
    "            <li>Response 1. I consider myself an opinion leader</li>\n",
    "            <li>Response 2. I like to stand out from others </li>\n",
    "            <li>Response 3. I like to offer advice to others</li>\n",
    "            <li>Response 4. I like to take the lead in decision making</li>\n",
    "            <li>Response 5. I’m the first of my friends and family to try new things </li>\n",
    "            <li>Response 6. Responsibility is overrated; I’d rather be told what to do</li>\n",
    "            <li>Response 7. I like being in control</li>\n",
    "            <li>Response 8. I’m a risk taker</li>\n",
    "            <li>Response 9. I think of myself as creative </li>\n",
    "            <li>Response 10. I am an optimistic person</li>\n",
    "            <li>Response 11. I am very active and always on the go</li>\n",
    "            <li>Response 12. I always feel stretched for time</li>\n",
    "        </ul>\n",
    "        <li>Question 26. How much do you agree or disagree with each of these statements?</li>\n",
    "        <ul>\n",
    "            <li>Response 3. I am always on the lookout for a bargain, discounts or deals </li>\n",
    "            <li>Response 4. I derive enjoyment from any kind of shopping</li>\n",
    "            <li>Response 5. I like package deals because I don’t have to do as much planning</li>\n",
    "            <li>Response 6. I’m always shopping online</li>\n",
    "            <li>Response 7. I prefer to buy designer brands.</li>\n",
    "            <li>Response 8. I can’t get enough Apps</li>\n",
    "            <li>Response 9. It’s not the number of Apps you have but how cool they are that really matters</li>\n",
    "            <li>Response 10. I love showing off my new Apps to others</li>\n",
    "            <li>Response 11. My children have an impact on the Apps I download</li>\n",
    "            <li>Response12. It’s usually worth spending a few extra dollars to get extra App features r13. There’s no point in earning money if I’m not going to spend it</li>\n",
    "            <li>Response 14. I am influenced by what’s hot and what’s not r15. I buy brands that reflect my style</li>\n",
    "            <li>Response 16. I tend to make impulse purchases</li>\n",
    "            <li>Response 17. Above all else, I think of my mobile phone as a source of entertainment</li>\n",
    "            <li>Response 18. I find I’m often attracted to luxury brands.</li>\n",
    "        </ul>\n",
    "    </ul>    \n",
    "    <br><li>Demographic Information</li>\n",
    "    <ul>\n",
    "            <li>Question 1. Which of the following best describes your age?</li>\n",
    "            <li>Question 2. Do you own any of the following smartphones or other web-enabled devices?</li>\n",
    "            <li>Question 48. Which of the following best describes the highest level of education you have attained?</li>\n",
    "            <li>Question 49. Which of the following best describe your marital status?</li>\n",
    "            <li>Question 50. Do you currently have any children in the following age groups?</li>\n",
    "            <li>Question 54. Which of the following best describes your race?</li>\n",
    "            <li>Question 55. Do you consider yourself to be of Hispanic or Latino ethnicity?</li>\n",
    "            <li>Question 56. Which of the following best describes your household annual income before taxes?</li>\n",
    "            <li>Question 57. Please indicate your gender.</li>\n",
    "    </ul>\n",
    "    <br><li>Behavioral Information</li>\n",
    "    <ul>    \n",
    "            <li>Question 4. Do you use any of the following kinds of Apps? </li>\n",
    "            <li>Question 11. How many Apps do you have on your smartphone/iPod Touch/Tablet? If you have more than of these device, please tell us the total number of Apps.</li>\n",
    "            <li>Question 12. Of your Apps, what percent were free to download? </li>\n",
    "            <li>Question 13. How many times per week do you visit each of the following websites? </li>\n",
    "    </ul>\n",
    "</ul>\n",
    "    \n",
    "    \n",
    "<br><br>"
   ]
  },
  {
   "cell_type": "markdown",
   "id": "6e175f32",
   "metadata": {},
   "source": [
    "<hr style=\"height:.9px;border:none;color:#333;background-color:#333;\" /><br>\n",
    "\n",
    "<h4>Dropping demographic information and scale the data.</h4>\n",
    "\n",
    "Creating a list of columns to enable us drop demographic, behavioral and psychometric \n",
    "information and another list to add it back later.\n",
    "\n",
    "We standard scaler to standardize dataset features because they have different unit measures. \n",
    "Standardizes a feature by subtracting the mean and then scaling to unit variance. Unit variance means dividing all the values by the standard deviation. <a href = \"https://towardsdatascience.com/scale-standardize-or-normalize-with-scikit-learn-6ccc7d176a02\">Source</a>\n",
    "\n",
    "We scaled Psychometric information by observation first to account for user cultural and environmental norms. \n",
    "<br>\n",
    "\n",
    "After Analysis we excluded these questions from PCA\n",
    "<br><blockquote>Question 2 response 10 (q2r10) - Do you own any of the following smartphones or other web-enabled devices? - None\n",
    "<br>Question 4 response 11 (q4r11) - Do you use any of the following kinds of Apps? - None</blockquote> \n",
    "<br>This is because we are analyzing mobile app download and usage and these answers are less important due to the data reflecting non-users of mobile devices and/or apps. Moreover, q4r1 through q4r10 were also excluded out of the Behavioral PCA due to the agreement between the consultants that q4 would dominate the PCA analysis. As most users use multiple apps, looking at the data set, the consultants needed to focus and understand other components.\n",
    "\n",
    "\n",
    "<br><br>"
   ]
  },
  {
   "cell_type": "code",
   "execution_count": 3,
   "id": "d6e58699",
   "metadata": {
    "deletable": false,
    "editable": false
   },
   "outputs": [],
   "source": [
    "#making a drop list for Demographic and Behavior\n",
    "drop_lst_psy = ['caseID', 'q1', 'q2r1', 'q2r2', 'q2r3', 'q2r4', 'q2r5', \n",
    "                'q2r6', 'q2r7', 'q2r8', 'q2r9', 'q2r10', 'q4r1', 'q4r2', \n",
    "                'q4r3', 'q4r4', 'q4r5', 'q4r6', 'q4r7', 'q4r8', 'q4r9', \n",
    "                'q4r10', 'q4r11', 'q11', 'q12', 'q13r1', 'q13r2', 'q13r3', \n",
    "                'q13r4', 'q13r5', 'q13r6', 'q13r7', 'q13r8', 'q13r9', \n",
    "                'q13r10', 'q13r11', 'q13r12','q48', 'q49', 'q50r1', 'q50r2', \n",
    "                'q50r3', 'q50r4', 'q50r5', 'q54', 'q55', 'q56', 'q57']\n",
    "\n",
    "#making a drop list for psychometric and Demographics\n",
    "drop_lst_bhv = ['caseID', 'q1', 'q2r1', 'q2r2', 'q2r3', 'q2r4', 'q2r5', \n",
    "                'q2r6', 'q2r7', 'q2r8', 'q2r9', 'q2r10','q4r1', 'q4r2', 'q4r3',\n",
    "                'q4r4', 'q4r5', 'q4r6', 'q4r7', 'q4r8', 'q4r9', 'q4r10','q4r11', \n",
    "                'q24r1', 'q24r2', 'q24r3','q24r4', 'q24r5', 'q24r6', 'q24r7', \n",
    "                'q24r8', 'q24r9', 'q24r10', 'q24r11', 'q24r12', 'q25r1', 'q25r2', \n",
    "                'q25r3', 'q25r4', 'q25r5', 'q25r6', 'q25r7', 'q25r8', 'q25r9', \n",
    "                'q25r10', 'q25r11', 'q25r12', 'q26r18', 'q26r3',\n",
    "                'q26r4', 'q26r5', 'q26r6', 'q26r7', 'q26r8', 'q26r9',\n",
    "                'q26r10', 'q26r11', 'q26r12', 'q26r13', 'q26r14', 'q26r15',\n",
    "                'q26r16', 'q26r17', 'q48', 'q49', 'q50r1', 'q50r2', 'q50r3',\n",
    "                'q50r4', 'q50r5', 'q54', 'q55', 'q56', 'q57']\n",
    "\n",
    "\n",
    "#Making add list to add behavioral features not used in pca\n",
    "add_list    = ['q4r1', 'q4r2', 'q4r3', 'q4r4', 'q4r5', 'q4r6', 'q4r7', \n",
    "               'q4r8', 'q4r9', 'q4r10']\n",
    "\n",
    "add_dem_lst = [ 'q1','q2r1', 'q2r2', 'q2r3', 'q2r4', 'q2r5', \n",
    "                'q2r6', 'q2r7', 'q2r8', 'q2r9',\n",
    "               'q48', 'q49', 'q50r1', 'q50r2', 'q50r3', 'q50r4', \n",
    "                'q50r5', 'q54', 'q55', 'q56', 'q57']\n",
    "\n",
    "# dropping demographic and behavioral information for psychometric data frame  \n",
    "mas_psy = mas_df.drop(drop_lst_psy,\n",
    "                           axis = 1)\n",
    "\n",
    "#transposing psychometric data for scalling per observation\n",
    "mas_psy_tr = mas_psy.transpose()\n",
    "\n",
    "# applying the unsupervised_scaler function\n",
    "mas_psy_tr_scaled = unsupervised_scaler(df = mas_psy_tr)\n",
    "\n",
    "#transpoding back into original format\n",
    "mas_psy_tr_scaled_tr = mas_psy_tr_scaled.transpose()\n",
    "\n",
    "#updating column names\n",
    "mas_psy_tr_scaled_tr.columns = ['q24r1', 'q24r2', 'q24r3', 'q24r4', 'q24r5', \n",
    "                                'q24r6', 'q24r7', 'q24r8', 'q24r9', 'q24r10', \n",
    "                                'q24r11', 'q24r12', 'q25r1', 'q25r2', 'q25r3',\n",
    "                                'q25r4', 'q25r5', 'q25r6', 'q25r7', 'q25r8', \n",
    "                                'q25r9', 'q25r10', 'q25r11', 'q25r12', \n",
    "                                'q26r18', 'q26r3', 'q26r4', 'q26r5', 'q26r6', \n",
    "                                'q26r7', 'q26r8', 'q26r9', 'q26r10', 'q26r11',\n",
    "                                'q26r12', 'q26r13', 'q26r14', 'q26r15', \n",
    "                                'q26r16', 'q26r17']\n",
    "\n",
    "# applying the unsupervised_scaler function\n",
    "mas_psy_final = unsupervised_scaler(df = mas_psy_tr_scaled_tr)\n",
    "\n",
    "# dropping demographic and psychometric information for behavorial dataframe  \n",
    "mas_bhv = mas_df.drop(drop_lst_bhv,\n",
    "                           axis = 1)\n",
    "mas_bhv_final = unsupervised_scaler(df = mas_bhv)\n",
    "\n",
    "\n",
    "# checking pre- and post-scaling variance\n",
    "# print(np.var(mas_psy_tr_scaled_tr), '\\n\\n')\n",
    "# print(np.var(mas_psy_final), '\\n\\n\\n')\n",
    "\n",
    "# print(np.var(mas_bhv), '\\n\\n')\n",
    "# print(np.var(mas_bhv_final))"
   ]
  },
  {
   "cell_type": "markdown",
   "id": "1a97ed5e",
   "metadata": {},
   "source": [
    "<br><br><h3>Principal Component Analysis - Scree plot </h3><br>\n",
    "We used a the scree plot to analyze the principal components. <br>\n",
    "A scree plot shows the eigenvalues on the y-axis and the number of factors on the x-axis. It always displays a downward curve. The point where the slope of the curve is clearly leveling off (the “elbow) indicates the number of factors that should be generated by the analysis.<a href = \"https://www.theanalysisfactor.com/factor-analysis-how-many-factors/\n",
    "\">Source</a>\n",
    "\n",
    "Develop a PCA model with no limit to principal components\n",
    "Analyze the explained_variance_ratio and the scree plot\n",
    "Decide how many components to RETAIN\n",
    "Build a new model with a limited number of principal components\n",
    "Interpret the results\n",
    "\n",
    "<br><br>"
   ]
  },
  {
   "cell_type": "code",
   "execution_count": 4,
   "id": "a8731dd6",
   "metadata": {},
   "outputs": [],
   "source": [
    "# INSTANTIATING a PCA object with no limit to principal components\n",
    "pca_bhv = PCA(n_components = 2,\n",
    "          random_state = 219)\n",
    "\n",
    "\n",
    "# FITTING and TRANSFORMING the purchases_scaled\n",
    "mas_bhv_pca = pca_bhv.fit_transform(mas_bhv_final)\n",
    "\n",
    "\n",
    "# calling the scree_plot function\n",
    "#scree_plot(pca_object = pca_bhv)\n",
    "\n"
   ]
  },
  {
   "attachments": {},
   "cell_type": "markdown",
   "id": "ba139c44",
   "metadata": {},
   "source": [
    "<br><br><strong>Behavioral PCA Scree plot analysis </strong><br>\n",
    "After an analysis of the scree plot with out restrictions we decided to cut at the elbow selecting two principal  components. See Image below.\n",
    "\n",
    "\n",
    "<img src=\"./__analysis_images/bhv_screeplot.png\" width=\"800\" height=\"500\" style=\"padding-bottom:0.5em;\"><em>Figure 1: Initial Behavioral PCA Scree plot </em>\n",
    "\n",
    "\n",
    "\n",
    "<br><br>"
   ]
  },
  {
   "cell_type": "code",
   "execution_count": 5,
   "id": "43b04db5",
   "metadata": {},
   "outputs": [],
   "source": [
    "# INSTANTIATING a PCA object with no limit to principal components\n",
    "pca_psy = PCA(n_components = 2,\n",
    "          random_state = 219)\n",
    "\n",
    "\n",
    "# FITTING and TRANSFORMING the purchases_scaled\n",
    "mas_psy_pca = pca_psy.fit_transform(mas_psy_final)\n",
    "\n",
    "\n",
    "# calling the scree_plot function\n",
    "#scree_plot(pca_object = pca_psy)"
   ]
  },
  {
   "cell_type": "markdown",
   "id": "74ff0400",
   "metadata": {},
   "source": [
    "<br><br><strong>Psychometric PCA Scree plot analysis </strong><br>\n",
    "After an analysis of the scree plot without restrictions we decided to cut at the elbow selecting two principal  components. See Image below.\n",
    "\n",
    "\n",
    "<img src=\"./__analysis_images/psy_screeplot.png\" width=\"800\" height=\"500\" style=\"padding-bottom:0.5em;\"><em>Figure 2: Initial Psychometric PCA Scree plot </em>\n",
    "\n",
    "\n",
    "\n",
    "<br><br>"
   ]
  },
  {
   "cell_type": "code",
   "execution_count": 6,
   "id": "bfd763a9",
   "metadata": {},
   "outputs": [],
   "source": [
    "####################\n",
    "### BHV PC Model ###\n",
    "####################\n",
    "# transposing pca components (pc = MAX)\n",
    "factor_loadings_bhv = pd.DataFrame(np.transpose(pca_bhv.components_))\n",
    "\n",
    "\n",
    "# naming rows as original features\n",
    "factor_loadings_bhv = factor_loadings_bhv.set_index(mas_bhv_final.columns)\n",
    "\n",
    "\n",
    "##################\n",
    "### PSY PC Model ###\n",
    "##################\n",
    "# transposing pca components (pc = 3)\n",
    "factor_loadings_psy = pd.DataFrame(np.transpose(pca_psy.components_))\n",
    "\n",
    "\n",
    "# naming rows as original features\n",
    "factor_loadings_psy = factor_loadings_psy.set_index(mas_psy_final.columns)\n",
    "\n",
    "\n",
    "\n",
    "# Saving factor loading in excel for analysis\n",
    "#factor_loadings_bhv.to_excel('bhv4.xlsx',)"
   ]
  },
  {
   "cell_type": "markdown",
   "id": "ebb9fea0",
   "metadata": {},
   "source": [
    "<strong> Checking Each PCA to understand the variance they account for.</strong>\n",
    "<br>Behavioral PCA's account for 40% of the variance while Psychometric accounts for 15%."
   ]
  },
  {
   "cell_type": "code",
   "execution_count": 7,
   "id": "37d80c2e",
   "metadata": {},
   "outputs": [
    {
     "name": "stdout",
     "output_type": "stream",
     "text": [
      "PC 1: 0.304\n",
      "PC 2: 0.101\n",
      "\n",
      "\n",
      "PC 1: 0.092\n",
      "PC 2: 0.066\n"
     ]
    }
   ],
   "source": [
    "# component number counter\n",
    "component_number_bhv = 0\n",
    "\n",
    "\n",
    "# looping over each principal component\n",
    "for variance in pca_bhv.explained_variance_ratio_:\n",
    "    component_number_bhv += 1\n",
    "    print(f\"PC {component_number_bhv}: {variance.round(3)}\")\n",
    "    \n",
    "print(\"\\n\")    \n",
    "# component number counter\n",
    "component_number_psy = 0\n",
    "\n",
    "\n",
    "# looping over each principal component\n",
    "for variance in pca_psy.explained_variance_ratio_:\n",
    "    component_number_psy += 1\n",
    "    print(f\"PC {component_number_psy}: {variance.round(3)}\")"
   ]
  },
  {
   "cell_type": "code",
   "execution_count": 8,
   "id": "3aa9e7ca",
   "metadata": {},
   "outputs": [],
   "source": [
    "# naming each principal component for behavorial\n",
    "factor_loadings_bhv.columns = ['No old skool music channels',    # avoids antique music websites and channels\n",
    "                             'Stimulated Socializers']  # Frequent social and entainment apps users\n",
    "\n",
    "\n",
    "\n",
    "# naming each principal component for psychometric\n",
    "factor_loadings_psy.columns = ['Tech Loner',    # avoides hot trends, friends and family using tech\n",
    "                               'Tech Social Control']  # social bees, passive tech users, dont rely on technolgy\n",
    "\n",
    "\n",
    "\n",
    "\n",
    "# checking the result\n",
    "#factor_loadings_bhv.round(decimals = 2)"
   ]
  },
  {
   "cell_type": "code",
   "execution_count": 9,
   "id": "76ee1ef0",
   "metadata": {},
   "outputs": [],
   "source": [
    "# analyzing factor strengths per customer\n",
    "factor_loadings_bhv_ = pca_bhv.transform(mas_bhv_final)\n",
    "factor_loadings_psy_ = pca_psy.transform(mas_psy_final)\n",
    "\n",
    "# converting to a DataFrame\n",
    "factor_loadings_df_bhv_ = pd.DataFrame(factor_loadings_bhv_)\n",
    "factor_loadings_df_psy_ = pd.DataFrame(factor_loadings_psy_)\n",
    "\n",
    "\n",
    "# renaming columns\n",
    "factor_loadings_df_bhv_.columns = factor_loadings_bhv.columns\n",
    "factor_loadings_df_psy_.columns = factor_loadings_psy.columns\n",
    "\n",
    "\n",
    "# checking the results\n",
    "#factor_loadings_df_bhv_\n",
    "#factor_loadings_df_psy_\n"
   ]
  },
  {
   "cell_type": "code",
   "execution_count": 10,
   "id": "f47a9356",
   "metadata": {},
   "outputs": [],
   "source": [
    "#adding all PC's together\n",
    "factor_loadings_df = pd.concat([factor_loadings_df_bhv_, factor_loadings_df_psy_ ,\n",
    "                                mas_df.loc[ : , add_list]], axis = 1)\n",
    "\n",
    "# applying the unsupervised_scaler function\n",
    "\n",
    "pca_scaled = unsupervised_scaler(df = factor_loadings_df)"
   ]
  },
  {
   "cell_type": "code",
   "execution_count": 11,
   "id": "f403ec9e",
   "metadata": {},
   "outputs": [
    {
     "data": {
      "image/png": "[encoded data removed]",
      "text/plain": [
       "<Figure size 864x864 with 1 Axes>"
      ]
     },
     "metadata": {
      "needs_background": "light"
     },
     "output_type": "display_data"
    }
   ],
   "source": [
    "# grouping data based on Ward distance\n",
    "standard_mergings_ward = linkage(y = pca_scaled,\n",
    "                                 method = 'ward',\n",
    "                                 optimal_ordering = True)\n",
    "\n",
    "\n",
    "# setting plot size\n",
    "fig, ax = plt.subplots(figsize=(12, 12))\n",
    "\n",
    "# developing a dendrogram\n",
    "dendrogram(Z = standard_mergings_ward,\n",
    "           leaf_rotation = 90,\n",
    "           leaf_font_size = 6)\n",
    "\n",
    "\n",
    "# rendering the plot\n",
    "plt.show()"
   ]
  },
  {
   "cell_type": "markdown",
   "id": "15c5699a",
   "metadata": {},
   "source": [
    "<br>In the plot above, we can see there are three major clusters, so we will instantiate our model with 3 clusters in the next cell.<br>"
   ]
  },
  {
   "cell_type": "code",
   "execution_count": 12,
   "id": "f7d74d00",
   "metadata": {},
   "outputs": [
    {
     "name": "stdout",
     "output_type": "stream",
     "text": [
      "1    783\n",
      "0    389\n",
      "2    380\n",
      "Name: Cluster, dtype: int64\n"
     ]
    }
   ],
   "source": [
    "# INSTANTIATING a k-Means object with clusters\n",
    "mas_k_pca = KMeans(n_clusters   = 3,\n",
    "                         random_state = 219)\n",
    "\n",
    "\n",
    "# fitting the object to the data\n",
    "mas_k_pca.fit(pca_scaled)\n",
    "\n",
    "\n",
    "# converting the clusters to a DataFrame\n",
    "mas_kmeans_pca = pd.DataFrame({'Cluster': mas_k_pca.labels_})\n",
    "\n",
    "\n",
    "# checking the results\n",
    "print(mas_kmeans_pca.iloc[: , 0].value_counts())"
   ]
  },
  {
   "cell_type": "markdown",
   "id": "4fceb656",
   "metadata": {},
   "source": [
    "<br><br>We observed that the Second cluster has the highest observations accounting for 50% of out samples. we would base our recommendations on these.<br><br> "
   ]
  },
  {
   "cell_type": "code",
   "execution_count": 13,
   "id": "20a2a52e",
   "metadata": {},
   "outputs": [],
   "source": [
    "#renaming pc columns\n",
    "pc_column_names =  ['No old skool music channels',\n",
    "                    'Stimulated Socializers',\n",
    "                         \n",
    "                    'Tech Loner',\n",
    "                    'Tech Social Control',\n",
    "                    'q4r1', 'q4r2', 'q4r3', 'q4r4',\n",
    "                    'q4r5', 'q4r6', 'q4r7', 'q4r8', 'q4r9', 'q4r10' ]\n",
    "\n",
    "#renaming the final analysis column names for readability\n",
    "final_column_names =['Clusters',\n",
    "                    'No old skool music channels',\n",
    "                    'Stimulated Socializers',\n",
    "                    'Tech Loner',\n",
    "                    'Tech Social Control',\n",
    "                    'Music and Sound Identification Apps', 'TV Check-in Apps', \n",
    "                    'Entertainment Apps', 'TV Show Apps',\n",
    "                    'Gaming Apps', 'Social Networking Apps', 'General News Apps', \n",
    "                    'Shopping Apps', 'Specific Publication News Apps', 'Other',\n",
    "                    'Age Group','iPhone', 'iPod touch','Android', 'BlackBerry', \n",
    "                    'Nokia','Windows Phone or Windows Mobile','HP/ Palm WebOS', \n",
    "                    'Tablet (iPad, Xoom, Galaxy Tab etc.)', 'Other smartphone',\n",
    "                    'Education', 'Marital Status', 'No children', \n",
    "                    'children under 6yr', 'children 6-12 yr', 'children 13-17 yr', \n",
    "                    'children 18 or older', 'Race', 'Ethnicity', 'Income', 'Gender' ]"
   ]
  },
  {
   "cell_type": "code",
   "execution_count": 14,
   "id": "ae81616c",
   "metadata": {},
   "outputs": [],
   "source": [
    "# storing cluster centers\n",
    "centroids_pca = mas_k_pca.cluster_centers_\n",
    "\n",
    "\n",
    "# converting cluster centers into a DataFrame\n",
    "centroids_pca_df = pd.DataFrame(centroids_pca)\n",
    "\n",
    "\n",
    "# renaming principal components\n",
    "centroids_pca_df.columns = pc_column_names\n",
    "\n",
    "\n",
    "# checking results (clusters = rows, pc = columns)\n",
    "#centroids_pca_df.round(2)"
   ]
  },
  {
   "cell_type": "code",
   "execution_count": 15,
   "id": "dbf6fa39",
   "metadata": {},
   "outputs": [],
   "source": [
    "# concatenating cluster memberships with principal components\n",
    "clst_pca_df = pd.concat([mas_kmeans_pca,\n",
    "                         factor_loadings_df],\n",
    "                         axis = 1)\n",
    "\n",
    "\n",
    "# concatenating demographic information with pca-clusters\n",
    "final_pca_clust_df = pd.concat([clst_pca_df.round(decimals = 2), \n",
    "                                mas_df.loc[ : , add_dem_lst]],\n",
    "                                axis = 1)\n",
    "\n",
    "\n",
    "# renaming columns\n",
    "final_pca_clust_df.columns = final_column_names\n",
    "\n",
    "# checking the results\n",
    "#final_pca_clust_df.head(n = 5)"
   ]
  },
  {
   "cell_type": "code",
   "execution_count": 16,
   "id": "f15e8c61",
   "metadata": {},
   "outputs": [],
   "source": [
    "# renaming Ages\n",
    "age_bin       = {1  : 'GEN Z',\n",
    "                 2  : 'GEN Z',\n",
    "                 3  : 'Millenials',\n",
    "                 4  : 'Millenials',\n",
    "                 5  : 'Millenials',\n",
    "                 6  : 'GEN X',\n",
    "                 7  : 'GEN X',\n",
    "                 8  : 'GEN X',\n",
    "                 9  : 'Boomers',\n",
    "                 10 : 'Boomers',\n",
    "                 11 : 'Boomers'}\n",
    "\n",
    "\n",
    "final_pca_clust_df['Age Group'].replace(age_bin, inplace = True)\n",
    "\n",
    "\n",
    "\n",
    "# renaming Education\n",
    "education_bin = {1 : 'Some high school',\n",
    "                 2 : 'High school graduate',\n",
    "                 3 : 'Some college',\n",
    "                 4 : 'College graduate',\n",
    "                 5 : 'Some post-graduate studies',\n",
    "                 6 : 'Post graduate degree'}\n",
    "\n",
    "\n",
    "final_pca_clust_df['Education'].replace(education_bin, inplace = True)\n",
    "\n",
    "\n",
    "# renaming Marital Status\n",
    "Marital_status = {1 : 'Married',\n",
    "                 2 : 'Single',\n",
    "                 3 : 'Single with a partner',\n",
    "                 4 : 'Separated/Widowed/Divorced'}\n",
    "\n",
    "\n",
    "final_pca_clust_df['Marital Status'].replace(Marital_status, inplace = True)\n",
    "\n",
    "\n",
    "# renaming Race\n",
    "race_bin      = {1 : 'White or Caucasian',\n",
    "                 2 : 'Black or African American',\n",
    "                 3 : 'Asian',\n",
    "                 4 : 'Native Hawaiian or Other Pacific Islander',\n",
    "                 5 : 'American Indian or Alaska Native',\n",
    "                 6 : 'Other race'}\n",
    "\n",
    "\n",
    "final_pca_clust_df['Race'].replace(race_bin, inplace = True)\n",
    "\n",
    "\n",
    "# renaming Ethnicity\n",
    "his_lat       = {1 : 'Yes',\n",
    "                 2 : 'No'}\n",
    "\n",
    "\n",
    "final_pca_clust_df['Ethnicity'].replace(his_lat, inplace = True)\n",
    "\n",
    "\n",
    "# renaming Income\n",
    "income_bin       = {1  : '0 - 19,999',\n",
    "                    2  : '0 - 19,999',\n",
    "                    3  : '0 - 19,999',\n",
    "                    4  : '20,000 - 59,999',\n",
    "                    5  : '20,000 - 59,999',\n",
    "                    6  : '20,000 - 59,999',\n",
    "                    7  : '20,000 - 59,999',\n",
    "                    8  : '60,000 - 89,999',\n",
    "                    9  : '60,000 - 89,999',\n",
    "                    10 : '60,000 - 89,999',\n",
    "                    11 : '90,000 - 149,999',\n",
    "                    12 : '90,000 - 149,999',\n",
    "                    13 : '90,000 - 149,999',\n",
    "                    14 : '150,000 and above'}\n",
    "\n",
    "\n",
    "final_pca_clust_df['Income'].replace(income_bin, inplace = True)\n",
    "\n",
    "\n",
    "# renaming Gender\n",
    "gender_bin    = {1 : 'Male',\n",
    "                 2 : 'Female'}\n",
    "\n",
    "\n",
    "final_pca_clust_df['Gender'].replace(gender_bin, inplace = True)\n",
    "\n",
    "# renaming clusters\n",
    "cluster_names = {0 : 'Cluster 1',\n",
    "                 1 : 'Cluster 2',\n",
    "                 2 : 'Cluster 3',\n",
    "                 3 : 'Cluster 4',\n",
    "                 4 : 'Cluster 5',\n",
    "                 5 : 'Cluster 6',\n",
    "                 6 : 'Cluster 7',\n",
    "                 7 : 'Cluster 8'}\n",
    "\n",
    "\n",
    "final_pca_clust_df['Clusters'].replace(cluster_names, inplace = True)\n",
    "\n",
    "# adding a productivity step\n",
    "data_df = final_pca_clust_df\n",
    "\n",
    "\n",
    "# checking results\n",
    "#data_df"
   ]
  },
  {
   "cell_type": "markdown",
   "id": "d94f0365",
   "metadata": {
    "deletable": false,
    "editable": false
   },
   "source": [
    "<br><br>\n",
    "<br><h3>Analysis with demographics - Box plot </h3><br>\n",
    " <br>\n",
    "\n",
    "\n",
    "<br><br>"
   ]
  },
  {
   "cell_type": "code",
   "execution_count": 17,
   "id": "e05c183d",
   "metadata": {
    "cell_style": "center"
   },
   "outputs": [
    {
     "data": {
      "image/png": "[encoded data removed]",
      "text/plain": [
       "<Figure size 864x576 with 1 Axes>"
      ]
     },
     "metadata": {
      "needs_background": "light"
     },
     "output_type": "display_data"
    }
   ],
   "source": [
    "########################\n",
    "# Education \n",
    "########################\n",
    "# Tech Loner\n",
    "fig, ax = plt.subplots(figsize = (12, 8))\n",
    "sns.boxplot(x    = 'Education',\n",
    "            y    = 'Tech Loner',\n",
    "            hue  = 'Clusters',\n",
    "            data = data_df)\n",
    "\n",
    "\n",
    "# formatting and displaying the plot\n",
    "plt.tight_layout()\n",
    "plt.show()"
   ]
  },
  {
   "cell_type": "markdown",
   "id": "a7820ebc",
   "metadata": {
    "cell_style": "center"
   },
   "source": [
    "<br><br><br><strong>Education || Tech Loner </strong><br>\n",
    "High school graduates and individuals who completed some high school are more inclined to immerse them selves with internet and stay secluded. high school graduates tend to avoid social engagements because there are no achievements to show off or share with others.  \n",
    "\n",
    "<br><br><br>"
   ]
  },
  {
   "cell_type": "code",
   "execution_count": 18,
   "id": "9294cedb",
   "metadata": {
    "cell_style": "center"
   },
   "outputs": [
    {
     "data": {
      "image/png": "[encoded data removed]",
      "text/plain": [
       "<Figure size 864x576 with 1 Axes>"
      ]
     },
     "metadata": {
      "needs_background": "light"
     },
     "output_type": "display_data"
    }
   ],
   "source": [
    "########################\n",
    "# Income\n",
    "########################\n",
    "# Tech Social Control \n",
    "fig, ax = plt.subplots(figsize = (12, 8))\n",
    "sns.boxplot(x    = 'Income',\n",
    "            y    = 'Tech Social Control',\n",
    "            hue  = 'Clusters',\n",
    "            data = data_df)\n",
    "\n",
    "\n",
    "# formatting and displaying the plot\n",
    "plt.tight_layout()\n",
    "plt.show()"
   ]
  },
  {
   "cell_type": "markdown",
   "id": "0e6bcae5",
   "metadata": {
    "cell_style": "center"
   },
   "source": [
    "<br><br><br><strong>Income || Tech Social Control </strong><br>\n",
    "Those who are wealthy use technology mostly to control their surroundings and social life. Individuals with more money and resources are practical and have less time, so they tend to use internet to stay connected with their social life. \n",
    "\n",
    "<br><br><br>"
   ]
  },
  {
   "cell_type": "code",
   "execution_count": 19,
   "id": "fa892a98",
   "metadata": {
    "cell_style": "center"
   },
   "outputs": [
    {
     "data": {
      "image/png": "[encoded data removed]",
      "text/plain": [
       "<Figure size 864x576 with 1 Axes>"
      ]
     },
     "metadata": {
      "needs_background": "light"
     },
     "output_type": "display_data"
    }
   ],
   "source": [
    "########################\n",
    "# Age Group \n",
    "########################\n",
    "# Tech Loner\n",
    "fig, ax = plt.subplots(figsize = (12, 8))\n",
    "sns.boxplot(x    = 'Age Group',\n",
    "            y    = 'Tech Loner',\n",
    "            hue  = 'Clusters',\n",
    "            data = data_df)\n",
    "\n",
    "\n",
    "# formatting and displaying the plot\n",
    "plt.tight_layout()\n",
    "plt.show()"
   ]
  },
  {
   "cell_type": "markdown",
   "id": "ef5a99a8",
   "metadata": {
    "cell_style": "center"
   },
   "source": [
    "<br><br><br><strong>Age Group  || Tech Loner </strong><br>\n",
    "The Gen Z generation tends to relate to the tech loner segment to avoid social commitments with friends and family and use the internet to connect with their favorite popular cultural interest.   \n",
    "\n",
    "<br><br><br>"
   ]
  },
  {
   "cell_type": "code",
   "execution_count": 20,
   "id": "9ef5a947",
   "metadata": {
    "cell_style": "center"
   },
   "outputs": [
    {
     "data": {
      "image/png": "[encoded data removed]",
      "text/plain": [
       "<Figure size 864x576 with 1 Axes>"
      ]
     },
     "metadata": {
      "needs_background": "light"
     },
     "output_type": "display_data"
    }
   ],
   "source": [
    "########################\n",
    "# Marital Status \n",
    "########################\n",
    "# Tech Loner\n",
    "fig, ax = plt.subplots(figsize = (12, 8))\n",
    "sns.boxplot(x    = 'Marital Status',\n",
    "            y    = 'Tech Loner',\n",
    "            hue  = 'Clusters',\n",
    "            data = data_df)\n",
    "\n",
    "\n",
    "# formatting and displaying the plot\n",
    "plt.tight_layout()\n",
    "plt.show()"
   ]
  },
  {
   "cell_type": "markdown",
   "id": "0688a64d",
   "metadata": {
    "cell_style": "center"
   },
   "source": [
    "<br><br><br><strong>Marital Status || Tech Loner </strong><br>\n",
    "Those who are separated Widowed or divorced tend to avoid relationships and would use tech to occupy their time while avoiding social engagements\n",
    "\n",
    "<br><br><br>"
   ]
  },
  {
   "cell_type": "code",
   "execution_count": 21,
   "id": "f87ad238",
   "metadata": {
    "cell_style": "center",
    "scrolled": false
   },
   "outputs": [
    {
     "data": {
      "image/png": "[encoded data removed]",
      "text/plain": [
       "<Figure size 864x576 with 1 Axes>"
      ]
     },
     "metadata": {
      "needs_background": "light"
     },
     "output_type": "display_data"
    }
   ],
   "source": [
    "########################\n",
    "# Race\n",
    "########################\n",
    "# No old skool music channels\n",
    "fig, ax = plt.subplots(figsize = (12, 8))\n",
    "sns.boxplot(x    = 'Race',\n",
    "            y    = 'No old skool music channels' ,\n",
    "            hue  = 'Clusters',\n",
    "            data = data_df)\n",
    "\n",
    "\n",
    "# formatting and displaying the plot\n",
    "plt.tight_layout()\n",
    "plt.show()"
   ]
  },
  {
   "cell_type": "markdown",
   "id": "983f321e",
   "metadata": {},
   "source": [
    "<br><br><br><strong>Race || No old skool music channels </strong><br>\n",
    "Race is so segmented. Asian and  American Indian or Alaska Native are more inclined not to use older music channels. \n",
    "<br><br><br>"
   ]
  },
  {
   "cell_type": "markdown",
   "id": "65fb2be4",
   "metadata": {},
   "source": [
    "<br><br><h3>Conclusion</h3>\n",
    "\n",
    "After analysis of the \n",
    "After testing demographic characteristics against behavioral and psychometric responses, we conclude that the marketing department focuses on these user segments to tailor any new applications to cater to their needs. \n",
    "\n",
    "<ul>\n",
    "    <li>Focus on people who are separated Widowed or divorced because they'll make great customers applications for self development and emotional expressions.  </li>\n",
    "    <li>The Gen Z generation would be a great fit for application based on trends and socialization. </li>\n",
    "    <li>Focus on Productivity and social applications for for practical high income people. </li>\n",
    "</ul>\n",
    "<br><br>"
   ]
  }
 ],
 "metadata": {
  "kernelspec": {
   "display_name": "Python 3 (ipykernel)",
   "language": "python",
   "name": "python3"
  },
  "language_info": {
   "codemirror_mode": {
    "name": "ipython",
    "version": 3
   },
   "file_extension": ".py",
   "mimetype": "text/x-python",
   "name": "python",
   "nbconvert_exporter": "python",
   "pygments_lexer": "ipython3",
   "version": "3.8.8"
  },
  "toc": {
   "base_numbering": 1,
   "nav_menu": {},
   "number_sections": false,
   "sideBar": true,
   "skip_h1_title": false,
   "title_cell": "Table of Contents",
   "title_sidebar": "Contents",
   "toc_cell": false,
   "toc_position": {
    "height": "calc(100% - 180px)",
    "left": "10px",
    "top": "150px",
    "width": "165px"
   },
   "toc_section_display": true,
   "toc_window_display": true
  },
  "varInspector": {
   "cols": {
    "lenName": 16,
    "lenType": 16,
    "lenVar": 40
   },
   "kernels_config": {
    "python": {
     "delete_cmd_postfix": "",
     "delete_cmd_prefix": "del ",
     "library": "var_list.py",
     "varRefreshCmd": "print(var_dic_list())"
    },
    "r": {
     "delete_cmd_postfix": ") ",
     "delete_cmd_prefix": "rm(",
     "library": "var_list.r",
     "varRefreshCmd": "cat(var_dic_list()) "
    }
   },
   "types_to_exclude": [
    "module",
    "function",
    "builtin_function_or_method",
    "instance",
    "_Feature"
   ],
   "window_display": false
  }
 },
 "nbformat": 4,
 "nbformat_minor": 5
}
